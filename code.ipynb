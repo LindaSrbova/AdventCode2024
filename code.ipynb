{
 "cells": [
  {
   "cell_type": "code",
   "execution_count": 29,
   "metadata": {},
   "outputs": [],
   "source": [
    "list_left = [3,4,2,1,3,3]\n",
    "list_right = [4,3,5,3,9,3]"
   ]
  },
  {
   "cell_type": "markdown",
   "metadata": {},
   "source": [
    "1/1/2024"
   ]
  },
  {
   "cell_type": "code",
   "execution_count": 31,
   "metadata": {},
   "outputs": [
    {
     "data": {
      "text/plain": [
       "11"
      ]
     },
     "execution_count": 31,
     "metadata": {},
     "output_type": "execute_result"
    }
   ],
   "source": [
    "def TotalDistance(list2, list1):\n",
    "    list1.sort()\n",
    "    list2.sort()\n",
    "    \n",
    "    total_distance = 0\n",
    "    for i in range(len(list1)) if len(list1)> len(list2) else range(len(list2)):\n",
    "        try:\n",
    "            total_distance += abs(list1[i]-list2[i])   \n",
    "        except IndexError as e:\n",
    "            total_distance += list1[i] if len(list1)> len(list2) else list2[i]\n",
    "    return total_distance\n",
    "\n",
    "TotalDistance(list_left,list_right)\n"
   ]
  },
  {
   "cell_type": "code",
   "execution_count": 32,
   "metadata": {},
   "outputs": [
    {
     "data": {
      "text/plain": [
       "31"
      ]
     },
     "execution_count": 32,
     "metadata": {},
     "output_type": "execute_result"
    }
   ],
   "source": [
    "def SimilarityIndex(list1, list2):\n",
    "    total_similarity = 0\n",
    "    for i in range(len(list1)):\n",
    "        similarity = list1[i] * list2.count(list1[i])\n",
    "        total_similarity += similarity     \n",
    "        #print(f\"For item {item}, which is in the first list {itemm_count}xtimes, the similarity is:{similarity}\")\n",
    "    #print(f\"Total distance:{total_similarity}\")\n",
    "    return  total_similarity\n",
    "SimilarityIndex(list_left,list_right)\n"
   ]
  },
  {
   "cell_type": "markdown",
   "metadata": {},
   "source": [
    "2/1/2024"
   ]
  },
  {
   "cell_type": "code",
   "execution_count": 66,
   "metadata": {},
   "outputs": [],
   "source": [
    "import numpy as np\n",
    "reports = np.loadtxt(\"C:/Users/srboval1/AdventCode/day2.txt\")"
   ]
  },
  {
   "cell_type": "code",
   "execution_count": 71,
   "metadata": {},
   "outputs": [
    {
     "name": "stdout",
     "output_type": "stream",
     "text": [
      "Number of safe reports: 2\n"
     ]
    }
   ],
   "source": [
    "def safe(array):\n",
    "    differences = np.diff(array)\n",
    "    x = 0\n",
    "    if np.all(differences <= -1) & np.all(-3 <= differences): x = 1\n",
    "    elif np.all((differences >= 1) & (3 >= differences)): x = 1\n",
    "    else: x = 0\n",
    "    return x\n",
    "\n",
    "total_safe = sum(safe(i) for i in iter(reports))\n",
    "print(f\"Number of safe reports: {total_safe}\")\n",
    "    "
   ]
  },
  {
   "cell_type": "markdown",
   "metadata": {},
   "source": [
    "3/12"
   ]
  },
  {
   "cell_type": "code",
   "execution_count": 58,
   "metadata": {},
   "outputs": [
    {
     "name": "stdout",
     "output_type": "stream",
     "text": [
      "The total sum is: 161\n"
     ]
    }
   ],
   "source": [
    "memory = str('xmul(2,4)%&mul[3,7]!@^do_not_mul(5,5)+mul(32,64]then(mul(11,8)mul(8,5))')\n",
    "\n",
    "sum = 0\n",
    "\n",
    "def check(brackets):\n",
    "    if (brackets.partition('(')[1]) == '(':\n",
    "        out = brackets.partition('(')[2]\n",
    "        return check(out)\n",
    "    elif (brackets.partition('(')[1]) != '(':\n",
    "        out = brackets.partition(',')\n",
    "        return out  \n",
    "\n",
    "def part1(memory, sum):\n",
    "    new = memory.partition('(')[2]\n",
    "    content1 = new.partition(')')[0]\n",
    "    rest = new.partition(')')[2]\n",
    "    result = check(content1)\n",
    "    a = result[0]  \n",
    "    b = result[2]  \n",
    "    if a.isdigit() and b.isdigit():\n",
    "        sum += (int(a)) * int(b)\n",
    "        part1(rest, sum)\n",
    "    elif len(rest) > 5:\n",
    "        part1(rest, sum)\n",
    "    else:\n",
    "        print(f\"The total sum is: {sum}\")\n",
    "\n",
    "\n",
    "final_sum = part1(memory, sum)\n"
   ]
  },
  {
   "cell_type": "markdown",
   "metadata": {},
   "source": [
    "5/12"
   ]
  },
  {
   "cell_type": "code",
   "execution_count": 30,
   "metadata": {},
   "outputs": [
    {
     "name": "stdout",
     "output_type": "stream",
     "text": [
      "Update ['75', '47', '61', '53', '29'] is ok and the middle number is 61\n",
      "Update ['97', '61', '53', '29', '13'] is ok and the middle number is 53\n",
      "Update ['75', '29', '13'] is ok and the middle number is 29\n",
      "Update ['75', '97', '47', '61', '53'] is not in the right order because: The number 75 is wrong because it should be after 97 \n",
      "Update ['61', '13', '29'] is not in the right order because: The number 13 is wrong because it should be after 29 \n",
      "Update ['97', '13', '75', '29', '47'] is not in the right order because: The number 13 is wrong because it should be after 29 \n",
      "The total sum of middle numbers from correct updates is 143\n"
     ]
    }
   ],
   "source": [
    "def check(line,split_rules,total):\n",
    "    set = line.strip().split(',')\n",
    "\n",
    "    before = []\n",
    "    after = set.copy()\n",
    "    break_set = False\n",
    "\n",
    "    for number in set:\n",
    "        after.remove(number)\n",
    "        break_set,message = exist(number,after, before,split_rules)\n",
    "        before.append(number)\n",
    "        \n",
    "        if break_set:\n",
    "            print(f\"Update {set} is not in the right order because: {message}\")\n",
    "            break\n",
    "        elif len(after) == 0 and not break_set:\n",
    "            middle = int(set[len(set) // 2])\n",
    "            print(f\"Update {set} {message} and the middle number is {middle}\")\n",
    "            total += middle\n",
    "            return total\n",
    "        \n",
    "    return total\n",
    "\n",
    "def exist(number,after, before, split_rules):\n",
    "    locations = []\n",
    "    if number in rules:\n",
    "        locations = [index for index, inner_list in enumerate(split_rules) if number in inner_list]\n",
    "        for value in locations:\n",
    "            if number in split_rules[value][0] and split_rules[value][1] in before:\n",
    "                message = f\"The number {number} is wrong because it should be before {split_rules[value][1]} \"\n",
    "                return True, message\n",
    "            elif number in split_rules[value][1] and split_rules[value][0] in after:\n",
    "                message = f\"The number {number} is wrong because it should be after {split_rules[value][0]} \"\n",
    "                return True, message\n",
    "            \n",
    "    return False, \"is ok\"\n",
    "\n",
    "       \n",
    "with open(\"C:/Users/srboval1/AdventCode/day5_rules.txt\") as rules:\n",
    "    rules = (rules.read())\n",
    "    split_rules = [i.split(\"|\") for i in rules.strip().split(\"\\n\")]\n",
    "\n",
    "\n",
    "with open(\"C:/Users/srboval1/AdventCode/day5_updates.txt\") as updates:\n",
    "    total = 0\n",
    "    for line in updates:\n",
    "        total = check(line,split_rules,total)\n",
    "\n",
    "print(f\"The total sum of middle numbers from correct updates is {total}\")\n",
    "\n",
    "    "
   ]
  },
  {
   "cell_type": "code",
   "execution_count": null,
   "metadata": {},
   "outputs": [],
   "source": [
    "# "
   ]
  }
 ],
 "metadata": {
  "kernelspec": {
   "display_name": "myenv",
   "language": "python",
   "name": "python3"
  },
  "language_info": {
   "codemirror_mode": {
    "name": "ipython",
    "version": 3
   },
   "file_extension": ".py",
   "mimetype": "text/x-python",
   "name": "python",
   "nbconvert_exporter": "python",
   "pygments_lexer": "ipython3",
   "version": "3.8.20"
  }
 },
 "nbformat": 4,
 "nbformat_minor": 2
}
