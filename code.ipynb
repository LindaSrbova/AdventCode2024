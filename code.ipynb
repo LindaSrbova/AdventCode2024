{
 "cells": [
  {
   "cell_type": "code",
   "execution_count": 29,
   "metadata": {},
   "outputs": [],
   "source": [
    "list_left = [3,4,2,1,3,3]\n",
    "list_right = [4,3,5,3,9,3]"
   ]
  },
  {
   "cell_type": "markdown",
   "metadata": {},
   "source": [
    "1/1/2024"
   ]
  },
  {
   "cell_type": "code",
   "execution_count": 31,
   "metadata": {},
   "outputs": [
    {
     "data": {
      "text/plain": [
       "11"
      ]
     },
     "execution_count": 31,
     "metadata": {},
     "output_type": "execute_result"
    }
   ],
   "source": [
    "def TotalDistance(list2, list1):\n",
    "    list1.sort()\n",
    "    list2.sort()\n",
    "    \n",
    "    total_distance = 0\n",
    "    for i in range(len(list1)) if len(list1)> len(list2) else range(len(list2)):\n",
    "        try:\n",
    "            total_distance += abs(list1[i]-list2[i])   \n",
    "        except IndexError as e:\n",
    "            total_distance += list1[i] if len(list1)> len(list2) else list2[i]\n",
    "    return total_distance\n",
    "\n",
    "TotalDistance(list_left,list_right)\n"
   ]
  },
  {
   "cell_type": "code",
   "execution_count": 32,
   "metadata": {},
   "outputs": [
    {
     "data": {
      "text/plain": [
       "31"
      ]
     },
     "execution_count": 32,
     "metadata": {},
     "output_type": "execute_result"
    }
   ],
   "source": [
    "def SimilarityIndex(list1, list2):\n",
    "    total_similarity = 0\n",
    "    for i in range(len(list1)):\n",
    "        similarity = list1[i] * list2.count(list1[i])\n",
    "        total_similarity += similarity     \n",
    "        #print(f\"For item {item}, which is in the first list {itemm_count}xtimes, the similarity is:{similarity}\")\n",
    "    #print(f\"Total distance:{total_similarity}\")\n",
    "    return  total_similarity\n",
    "SimilarityIndex(list_left,list_right)\n"
   ]
  },
  {
   "cell_type": "markdown",
   "metadata": {},
   "source": [
    "2/1/2024"
   ]
  },
  {
   "cell_type": "code",
   "execution_count": 66,
   "metadata": {},
   "outputs": [],
   "source": [
    "import numpy as np\n",
    "reports = np.loadtxt(\"C:/Users/srboval1/AdventCode/day2.txt\")"
   ]
  },
  {
   "cell_type": "code",
   "execution_count": 71,
   "metadata": {},
   "outputs": [
    {
     "name": "stdout",
     "output_type": "stream",
     "text": [
      "Number of safe reports: 2\n"
     ]
    }
   ],
   "source": [
    "def safe(array):\n",
    "    differences = np.diff(array)\n",
    "    x = 0\n",
    "    if np.all(differences <= -1) & np.all(-3 <= differences): x = 1\n",
    "    elif np.all((differences >= 1) & (3 >= differences)): x = 1\n",
    "    else: x = 0\n",
    "    return x\n",
    "\n",
    "total_safe = sum(safe(i) for i in iter(reports))\n",
    "print(f\"Number of safe reports: {total_safe}\")\n",
    "    "
   ]
  },
  {
   "cell_type": "markdown",
   "metadata": {},
   "source": [
    "3/12"
   ]
  },
  {
   "cell_type": "code",
   "execution_count": 60,
   "metadata": {},
   "outputs": [
    {
     "name": "stdout",
     "output_type": "stream",
     "text": [
      "1\n",
      "NO\n",
      "4\n",
      "NO\n",
      "4\n"
     ]
    }
   ],
   "source": [
    "memory = str('(1,4)')\n",
    "for i in memory.partition('(')[2]:\n",
    "    if i.isdigit(): print(i)\n",
    "    else: print('NO')\n",
    "print(len(memory.partition('(')[2]))"
   ]
  },
  {
   "cell_type": "code",
   "execution_count": null,
   "metadata": {},
   "outputs": [
    {
     "name": "stdout",
     "output_type": "stream",
     "text": [
      "2,4)%&mul[3,7]!@^do_not_mul(5,5)+mul(32,64]then(mul(11,8)mul(8,5))\n",
      "%&mul[3,7]!@^do_not_mul(5,5)+mul(32,64]then(mul(11,8)mul(8,5))\n",
      "2 4\n",
      "8\n",
      "5,5)+mul(32,64]then(mul(11,8)mul(8,5))\n",
      "+mul(32,64]then(mul(11,8)mul(8,5))\n",
      "5 5\n",
      "33\n",
      "32,64]then(mul(11,8)mul(8,5))\n",
      "mul(8,5))\n",
      "32 64]then(mul(11,8\n"
     ]
    },
    {
     "data": {
      "text/plain": [
       "0"
      ]
     },
     "execution_count": 70,
     "metadata": {},
     "output_type": "execute_result"
    }
   ],
   "source": [
    "memory = str('xmul(2,4)%&mul[3,7]!@^do_not_mul(5,5)+mul(32,64]then(mul(11,8)mul(8,5))')\n",
    "\n",
    "sum = 0\n",
    "\n",
    "def part2(memory,sum):\n",
    "    brackets = memory.partition(')')[0]\n",
    "    rest = memory.partition(')')[2]\n",
    "    print(rest)\n",
    "    if len(brackets) >= 3:\n",
    "        a = brackets.partition(',')[0]\n",
    "        b = brackets.partition(',')[2]\n",
    "        print(a,b)\n",
    "        if a.isdigit() and b.isdigit():\n",
    "            sum += (int(a)*int(b))\n",
    "            print(sum)\n",
    "            part1(rest,sum)\n",
    "    elif len(rest) > 0:\n",
    "        part1(rest,sum)\n",
    "        \n",
    "def part1(memory,sum):\n",
    "    new = memory.partition('(')[2]\n",
    "    brackets = new.partition(')')[0]\n",
    "    rest = new.partition(')')\n",
    "    a = brackets.partition(',')[0].isdigit()\n",
    "    b = brackets.partition(',')[0]\n",
    "    if a.isdigit() and b.isdigit():\n",
    "        sum += (int(a)*int(b))\n",
    "        print(sum)\n",
    "        part1(rest,sum)\n",
    "        \n",
    "        \n",
    "        print(new)\n",
    "        part2(new,sum)\n",
    "    return sum\n",
    "\n",
    "part1(memory,sum)\n"
   ]
  },
  {
   "cell_type": "code",
   "execution_count": null,
   "metadata": {},
   "outputs": [],
   "source": [
    "print(memory)\n",
    "\n",
    "sum = 0\n",
    "new=\"\"\n",
    "\n",
    "\n",
    "for i,char in enumerate(memory):\n",
    "    if char == '(':\n",
    "        if new == \"\":\n",
    "            new += char\n",
    "    if char == ')':\n",
    "        \n",
    "                if memory[i+2] == ',':\n",
    "                    if memory[i+4] == ')':\n",
    "                        sum += int(memory[i+1])*int(memory[i+3])\n",
    "                        print(int(memory[i+1]),int(memory[i+3]))"
   ]
  },
  {
   "cell_type": "code",
   "execution_count": null,
   "metadata": {},
   "outputs": [],
   "source": [
    "    if char == '(':\n",
    "        if memory[i+1].isdigit() & memory[i+3].isdigit():\n",
    "                if memory[i+2] == ',':\n",
    "                    if memory[i+4] == ')':\n",
    "                        sum += int(memory[i+1])*int(memory[i+3])\n",
    "                        print(int(memory[i+1]),int(memory[i+3]))"
   ]
  }
 ],
 "metadata": {
  "kernelspec": {
   "display_name": "myenv",
   "language": "python",
   "name": "python3"
  },
  "language_info": {
   "codemirror_mode": {
    "name": "ipython",
    "version": 3
   },
   "file_extension": ".py",
   "mimetype": "text/x-python",
   "name": "python",
   "nbconvert_exporter": "python",
   "pygments_lexer": "ipython3",
   "version": "3.8.20"
  }
 },
 "nbformat": 4,
 "nbformat_minor": 2
}
