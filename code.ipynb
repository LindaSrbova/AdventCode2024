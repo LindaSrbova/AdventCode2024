{
 "cells": [
  {
   "cell_type": "code",
   "execution_count": 29,
   "metadata": {},
   "outputs": [],
   "source": [
    "list_left = [3,4,2,1,3,3]\n",
    "list_right = [4,3,5,3,9,3]"
   ]
  },
  {
   "cell_type": "markdown",
   "metadata": {},
   "source": [
    "1/1/2024"
   ]
  },
  {
   "cell_type": "code",
   "execution_count": 31,
   "metadata": {},
   "outputs": [
    {
     "data": {
      "text/plain": [
       "11"
      ]
     },
     "execution_count": 31,
     "metadata": {},
     "output_type": "execute_result"
    }
   ],
   "source": [
    "def TotalDistance(list2, list1):\n",
    "    list1.sort()\n",
    "    list2.sort()\n",
    "    \n",
    "    total_distance = 0\n",
    "    for i in range(len(list1)) if len(list1)> len(list2) else range(len(list2)):\n",
    "        try:\n",
    "            total_distance += abs(list1[i]-list2[i])   \n",
    "        except IndexError as e:\n",
    "            total_distance += list1[i] if len(list1)> len(list2) else list2[i]\n",
    "    return total_distance\n",
    "\n",
    "TotalDistance(list_left,list_right)\n"
   ]
  },
  {
   "cell_type": "code",
   "execution_count": 32,
   "metadata": {},
   "outputs": [
    {
     "data": {
      "text/plain": [
       "31"
      ]
     },
     "execution_count": 32,
     "metadata": {},
     "output_type": "execute_result"
    }
   ],
   "source": [
    "def SimilarityIndex(list1, list2):\n",
    "    total_similarity = 0\n",
    "    for i in range(len(list1)):\n",
    "        similarity = list1[i] * list2.count(list1[i])\n",
    "        total_similarity += similarity     \n",
    "        #print(f\"For item {item}, which is in the first list {itemm_count}xtimes, the similarity is:{similarity}\")\n",
    "    #print(f\"Total distance:{total_similarity}\")\n",
    "    return  total_similarity\n",
    "SimilarityIndex(list_left,list_right)\n"
   ]
  },
  {
   "cell_type": "markdown",
   "metadata": {},
   "source": [
    "2/1/2024"
   ]
  },
  {
   "cell_type": "code",
   "execution_count": 66,
   "metadata": {},
   "outputs": [],
   "source": [
    "import numpy as np\n",
    "reports = np.loadtxt(\"C:/Users/srboval1/AdventCode/day2.txt\")"
   ]
  },
  {
   "cell_type": "code",
   "execution_count": 71,
   "metadata": {},
   "outputs": [
    {
     "name": "stdout",
     "output_type": "stream",
     "text": [
      "Number of safe reports: 2\n"
     ]
    }
   ],
   "source": [
    "def safe(array):\n",
    "    differences = np.diff(array)\n",
    "    x = 0\n",
    "    if np.all(differences <= -1) & np.all(-3 <= differences): x = 1\n",
    "    elif np.all((differences >= 1) & (3 >= differences)): x = 1\n",
    "    else: x = 0\n",
    "    return x\n",
    "\n",
    "total_safe = sum(safe(i) for i in iter(reports))\n",
    "print(f\"Number of safe reports: {total_safe}\")\n",
    "    "
   ]
  },
  {
   "cell_type": "code",
   "execution_count": null,
   "metadata": {},
   "outputs": [],
   "source": []
  }
 ],
 "metadata": {
  "kernelspec": {
   "display_name": "myenv",
   "language": "python",
   "name": "python3"
  },
  "language_info": {
   "codemirror_mode": {
    "name": "ipython",
    "version": 3
   },
   "file_extension": ".py",
   "mimetype": "text/x-python",
   "name": "python",
   "nbconvert_exporter": "python",
   "pygments_lexer": "ipython3",
   "version": "3.8.20"
  }
 },
 "nbformat": 4,
 "nbformat_minor": 2
}
